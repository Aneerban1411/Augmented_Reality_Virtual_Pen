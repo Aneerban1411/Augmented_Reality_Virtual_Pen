{
 "cells": [
  {
   "cell_type": "code",
   "execution_count": 1,
   "metadata": {},
   "outputs": [],
   "source": [
    "import numpy as np\n",
    "import cv2"
   ]
  },
  {
   "cell_type": "code",
   "execution_count": 2,
   "metadata": {},
   "outputs": [],
   "source": [
    "penval = np.load('penval.npy')\n",
    "\n",
    "cap = cv2.VideoCapture(0)\n",
    "cap.set(3,1280)\n",
    "cap.set(4,720)\n",
    "\n",
    "# kernel for morphological operations\n",
    "kernel = np.ones((5,5),np.uint8)\n",
    "\n",
    "# set the window to auto-size for full screen\n",
    "cv2.namedWindow('image', cv2.WINDOW_NORMAL)\n",
    "\n",
    "# Threshold used to filter noise, smaller area is rejected\n",
    "noise_th = 300\n",
    "\n",
    "while(1):\n",
    "    \n",
    "    _, frame = cap.read()\n",
    "    frame = cv2.flip( frame, 1 )\n",
    "\n",
    "    # Convert BGR to HSV\n",
    "    hsv = cv2.cvtColor(frame, cv2.COLOR_BGR2HSV)\n",
    "    \n",
    "    lower_range = penval[0]\n",
    "    upper_range = penval[1]\n",
    "            \n",
    "    \n",
    "    mask = cv2.inRange(hsv, lower_range, upper_range)\n",
    "    \n",
    "    # Perform the morphological operations to get rid of the noise\n",
    "    mask = cv2.erode(mask,kernel,iterations = 1)\n",
    "    mask = cv2.dilate(mask,kernel,iterations = 2)\n",
    "    \n",
    "    # Find Contours in the frame\n",
    "    contours, hierarchy = cv2.findContours(mask, \n",
    "                                           cv2.RETR_EXTERNAL,\n",
    "                                           cv2.CHAIN_APPROX_SIMPLE)\n",
    "    \n",
    "    # Make sure there is a contour and its size is bigger than noise_th\n",
    "    if contours and cv2.contourArea(max(contours,key=cv2.contourArea))>noise_th:\n",
    "        \n",
    "        # Grab the biggest contour with respect to area\n",
    "        c = max(contours, key = cv2.contourArea)\n",
    "        \n",
    "        # Get bounding box coordinates around that contour\n",
    "        x,y,w,h = cv2.boundingRect(c)\n",
    "        \n",
    "        # Draw that bounding box\n",
    "        cv2.rectangle(frame,(x,y),(x+w,y+h),(0,25,255),2)        \n",
    "\n",
    "    cv2.imshow('image',frame)\n",
    "    \n",
    "    k = cv2.waitKey(5) & 0xFF\n",
    "    if k == 27:\n",
    "        break\n",
    "\n",
    "cv2.destroyAllWindows()\n",
    "cap.release()"
   ]
  },
  {
   "cell_type": "code",
   "execution_count": null,
   "metadata": {},
   "outputs": [],
   "source": []
  }
 ],
 "metadata": {
  "kernelspec": {
   "display_name": "Python 3",
   "language": "python",
   "name": "python3"
  },
  "language_info": {
   "codemirror_mode": {
    "name": "ipython",
    "version": 3
   },
   "file_extension": ".py",
   "mimetype": "text/x-python",
   "name": "python",
   "nbconvert_exporter": "python",
   "pygments_lexer": "ipython3",
   "version": "3.7.7"
  }
 },
 "nbformat": 4,
 "nbformat_minor": 4
}
